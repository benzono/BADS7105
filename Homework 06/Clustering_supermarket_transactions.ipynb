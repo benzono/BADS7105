{
  "nbformat": 4,
  "nbformat_minor": 0,
  "metadata": {
    "colab": {
      "name": "Clustering_supermarket_transactions.ipynb",
      "provenance": [],
      "collapsed_sections": []
    },
    "kernelspec": {
      "name": "python3",
      "display_name": "Python 3"
    }
  },
  "cells": [
    {
      "cell_type": "code",
      "metadata": {
        "id": "jmNihptfYWLR"
      },
      "source": [
        "import pandas as pd\n",
        "from pandas_profiling import ProfileReport\n",
        "from pandas_profiling.utils.cache import cache_file\n",
        "from google.colab import auth\n",
        "auth.authenticate_user()"
      ],
      "execution_count": 88,
      "outputs": []
    },
    {
      "cell_type": "code",
      "metadata": {
        "id": "nWFINkd5Yuu-"
      },
      "source": [
        "project_id = 'nida-workshop-308209'\n",
        "\n",
        "sql ='''\n",
        "SELECT CUST_CODE, \n",
        "SUM(SPEND) AS TOTAL_SALES, \n",
        "COUNT(DISTINCT BASKET_ID) AS TOTAL_VISIT,\n",
        "DATE_DIFF(PARSE_DATE(\"%Y%m%d\",'20080707'),PARSE_DATE(\"%Y%m%d\", cast(max(SHOP_DATE) as STRING)), DAY) as Recency, \n",
        "count(distinct case when BASKET_SIZE = 'L' then BASKET_ID end) as L_BASKET_SIZE,\n",
        "count(distinct case when BASKET_SIZE = 'M' then BASKET_ID end) as M_BASKET_SIZE,\n",
        "count(distinct case when BASKET_SIZE = 'S' then BASKET_ID end) as S_BASKET_SIZE, \n",
        "count(distinct case when BASKET_TYPE = 'Full Shop' then BASKET_ID end) as Full_Shop_BASKET_SIZE, \n",
        "count(distinct case when BASKET_TYPE = 'Top Up' then BASKET_ID end) as Top_Up_BASKET_SIZE, \n",
        "count(distinct case when BASKET_TYPE = 'Small Shop' then BASKET_ID end) as Small_Shop_BASKET_SIZE,\n",
        "count(distinct case when BASKET_PRICE_SENSITIVITY = 'MM' then BASKET_ID end) as MM_BASKET_SIZE, \n",
        "count(distinct case when BASKET_PRICE_SENSITIVITY = 'LA' then BASKET_ID end) as LA_BASKET_SIZE, \n",
        "count(distinct case when BASKET_PRICE_SENSITIVITY = 'UM' then BASKET_ID end) as UM_BASKET_SIZE\n",
        "FROM `nida-workshop-308209.supermarket.transactions`\n",
        "WHERE CUST_CODE IS NOT NULL \n",
        "GROUP BY CUST_CODE'''\n",
        "\n",
        "df = pd.io.gbq.read_gbq(sql , project_id=project_id, verbose=False, dialect=\"standard\")"
      ],
      "execution_count": 82,
      "outputs": []
    },
    {
      "cell_type": "code",
      "metadata": {
        "colab": {
          "base_uri": "https://localhost:8080/",
          "height": 419
        },
        "id": "z2D9OnjFRVW5",
        "outputId": "050fe841-9b7c-459b-8604-a50c34d35e24"
      },
      "source": [
        "df"
      ],
      "execution_count": 83,
      "outputs": [
        {
          "output_type": "execute_result",
          "data": {
            "text/html": [
              "<div>\n",
              "<style scoped>\n",
              "    .dataframe tbody tr th:only-of-type {\n",
              "        vertical-align: middle;\n",
              "    }\n",
              "\n",
              "    .dataframe tbody tr th {\n",
              "        vertical-align: top;\n",
              "    }\n",
              "\n",
              "    .dataframe thead th {\n",
              "        text-align: right;\n",
              "    }\n",
              "</style>\n",
              "<table border=\"1\" class=\"dataframe\">\n",
              "  <thead>\n",
              "    <tr style=\"text-align: right;\">\n",
              "      <th></th>\n",
              "      <th>CUST_CODE</th>\n",
              "      <th>TOTAL_SALES</th>\n",
              "      <th>TOTAL_VISIT</th>\n",
              "      <th>Recency</th>\n",
              "      <th>L_BASKET_SIZE</th>\n",
              "      <th>M_BASKET_SIZE</th>\n",
              "      <th>S_BASKET_SIZE</th>\n",
              "      <th>Full_Shop_BASKET_SIZE</th>\n",
              "      <th>Top_Up_BASKET_SIZE</th>\n",
              "      <th>Small_Shop_BASKET_SIZE</th>\n",
              "      <th>MM_BASKET_SIZE</th>\n",
              "      <th>LA_BASKET_SIZE</th>\n",
              "      <th>UM_BASKET_SIZE</th>\n",
              "    </tr>\n",
              "  </thead>\n",
              "  <tbody>\n",
              "    <tr>\n",
              "      <th>0</th>\n",
              "      <td>CUST0000644893</td>\n",
              "      <td>3726.78</td>\n",
              "      <td>154</td>\n",
              "      <td>5</td>\n",
              "      <td>129</td>\n",
              "      <td>18</td>\n",
              "      <td>7</td>\n",
              "      <td>56</td>\n",
              "      <td>78</td>\n",
              "      <td>20</td>\n",
              "      <td>26</td>\n",
              "      <td>126</td>\n",
              "      <td>2</td>\n",
              "    </tr>\n",
              "    <tr>\n",
              "      <th>1</th>\n",
              "      <td>CUST0000863361</td>\n",
              "      <td>190.79</td>\n",
              "      <td>32</td>\n",
              "      <td>1</td>\n",
              "      <td>9</td>\n",
              "      <td>11</td>\n",
              "      <td>12</td>\n",
              "      <td>0</td>\n",
              "      <td>14</td>\n",
              "      <td>18</td>\n",
              "      <td>25</td>\n",
              "      <td>4</td>\n",
              "      <td>3</td>\n",
              "    </tr>\n",
              "    <tr>\n",
              "      <th>2</th>\n",
              "      <td>CUST0000063931</td>\n",
              "      <td>1478.05</td>\n",
              "      <td>124</td>\n",
              "      <td>3</td>\n",
              "      <td>107</td>\n",
              "      <td>12</td>\n",
              "      <td>5</td>\n",
              "      <td>0</td>\n",
              "      <td>94</td>\n",
              "      <td>30</td>\n",
              "      <td>55</td>\n",
              "      <td>61</td>\n",
              "      <td>4</td>\n",
              "    </tr>\n",
              "    <tr>\n",
              "      <th>3</th>\n",
              "      <td>CUST0000997122</td>\n",
              "      <td>3961.74</td>\n",
              "      <td>188</td>\n",
              "      <td>5</td>\n",
              "      <td>91</td>\n",
              "      <td>59</td>\n",
              "      <td>38</td>\n",
              "      <td>73</td>\n",
              "      <td>21</td>\n",
              "      <td>92</td>\n",
              "      <td>80</td>\n",
              "      <td>81</td>\n",
              "      <td>25</td>\n",
              "    </tr>\n",
              "    <tr>\n",
              "      <th>4</th>\n",
              "      <td>CUST0000138092</td>\n",
              "      <td>2581.24</td>\n",
              "      <td>263</td>\n",
              "      <td>1</td>\n",
              "      <td>95</td>\n",
              "      <td>108</td>\n",
              "      <td>60</td>\n",
              "      <td>46</td>\n",
              "      <td>71</td>\n",
              "      <td>145</td>\n",
              "      <td>102</td>\n",
              "      <td>148</td>\n",
              "      <td>6</td>\n",
              "    </tr>\n",
              "    <tr>\n",
              "      <th>...</th>\n",
              "      <td>...</td>\n",
              "      <td>...</td>\n",
              "      <td>...</td>\n",
              "      <td>...</td>\n",
              "      <td>...</td>\n",
              "      <td>...</td>\n",
              "      <td>...</td>\n",
              "      <td>...</td>\n",
              "      <td>...</td>\n",
              "      <td>...</td>\n",
              "      <td>...</td>\n",
              "      <td>...</td>\n",
              "      <td>...</td>\n",
              "    </tr>\n",
              "    <tr>\n",
              "      <th>6095</th>\n",
              "      <td>CUST0000202837</td>\n",
              "      <td>171.83</td>\n",
              "      <td>21</td>\n",
              "      <td>16</td>\n",
              "      <td>3</td>\n",
              "      <td>6</td>\n",
              "      <td>12</td>\n",
              "      <td>1</td>\n",
              "      <td>3</td>\n",
              "      <td>17</td>\n",
              "      <td>5</td>\n",
              "      <td>1</td>\n",
              "      <td>11</td>\n",
              "    </tr>\n",
              "    <tr>\n",
              "      <th>6096</th>\n",
              "      <td>CUST0000129057</td>\n",
              "      <td>52.96</td>\n",
              "      <td>18</td>\n",
              "      <td>247</td>\n",
              "      <td>0</td>\n",
              "      <td>5</td>\n",
              "      <td>13</td>\n",
              "      <td>0</td>\n",
              "      <td>0</td>\n",
              "      <td>17</td>\n",
              "      <td>11</td>\n",
              "      <td>2</td>\n",
              "      <td>4</td>\n",
              "    </tr>\n",
              "    <tr>\n",
              "      <th>6097</th>\n",
              "      <td>CUST0000343943</td>\n",
              "      <td>27.79</td>\n",
              "      <td>17</td>\n",
              "      <td>47</td>\n",
              "      <td>0</td>\n",
              "      <td>1</td>\n",
              "      <td>16</td>\n",
              "      <td>0</td>\n",
              "      <td>0</td>\n",
              "      <td>17</td>\n",
              "      <td>16</td>\n",
              "      <td>1</td>\n",
              "      <td>0</td>\n",
              "    </tr>\n",
              "    <tr>\n",
              "      <th>6098</th>\n",
              "      <td>CUST0000202517</td>\n",
              "      <td>12.65</td>\n",
              "      <td>17</td>\n",
              "      <td>66</td>\n",
              "      <td>0</td>\n",
              "      <td>0</td>\n",
              "      <td>17</td>\n",
              "      <td>0</td>\n",
              "      <td>0</td>\n",
              "      <td>17</td>\n",
              "      <td>15</td>\n",
              "      <td>0</td>\n",
              "      <td>2</td>\n",
              "    </tr>\n",
              "    <tr>\n",
              "      <th>6099</th>\n",
              "      <td>CUST0000703480</td>\n",
              "      <td>9.17</td>\n",
              "      <td>17</td>\n",
              "      <td>72</td>\n",
              "      <td>0</td>\n",
              "      <td>0</td>\n",
              "      <td>17</td>\n",
              "      <td>0</td>\n",
              "      <td>0</td>\n",
              "      <td>17</td>\n",
              "      <td>17</td>\n",
              "      <td>0</td>\n",
              "      <td>0</td>\n",
              "    </tr>\n",
              "  </tbody>\n",
              "</table>\n",
              "<p>6100 rows × 13 columns</p>\n",
              "</div>"
            ],
            "text/plain": [
              "           CUST_CODE  TOTAL_SALES  ...  LA_BASKET_SIZE  UM_BASKET_SIZE\n",
              "0     CUST0000644893      3726.78  ...             126               2\n",
              "1     CUST0000863361       190.79  ...               4               3\n",
              "2     CUST0000063931      1478.05  ...              61               4\n",
              "3     CUST0000997122      3961.74  ...              81              25\n",
              "4     CUST0000138092      2581.24  ...             148               6\n",
              "...              ...          ...  ...             ...             ...\n",
              "6095  CUST0000202837       171.83  ...               1              11\n",
              "6096  CUST0000129057        52.96  ...               2               4\n",
              "6097  CUST0000343943        27.79  ...               1               0\n",
              "6098  CUST0000202517        12.65  ...               0               2\n",
              "6099  CUST0000703480         9.17  ...               0               0\n",
              "\n",
              "[6100 rows x 13 columns]"
            ]
          },
          "metadata": {
            "tags": []
          },
          "execution_count": 83
        }
      ]
    },
    {
      "cell_type": "code",
      "metadata": {
        "id": "gP4C36usY5Kx",
        "colab": {
          "base_uri": "https://localhost:8080/",
          "height": 204
        },
        "outputId": "16346070-dbb6-4a81-d20b-bb12b779b03c"
      },
      "source": [
        "from sklearn.preprocessing import StandardScaler\n",
        "\n",
        "df_std = pd.DataFrame(StandardScaler().fit_transform(df[df.columns[1:]]))\n",
        "df_std.head(5)"
      ],
      "execution_count": 93,
      "outputs": [
        {
          "output_type": "execute_result",
          "data": {
            "text/html": [
              "<div>\n",
              "<style scoped>\n",
              "    .dataframe tbody tr th:only-of-type {\n",
              "        vertical-align: middle;\n",
              "    }\n",
              "\n",
              "    .dataframe tbody tr th {\n",
              "        vertical-align: top;\n",
              "    }\n",
              "\n",
              "    .dataframe thead th {\n",
              "        text-align: right;\n",
              "    }\n",
              "</style>\n",
              "<table border=\"1\" class=\"dataframe\">\n",
              "  <thead>\n",
              "    <tr style=\"text-align: right;\">\n",
              "      <th></th>\n",
              "      <th>0</th>\n",
              "      <th>1</th>\n",
              "      <th>2</th>\n",
              "      <th>3</th>\n",
              "      <th>4</th>\n",
              "      <th>5</th>\n",
              "      <th>6</th>\n",
              "      <th>7</th>\n",
              "      <th>8</th>\n",
              "      <th>9</th>\n",
              "      <th>10</th>\n",
              "      <th>11</th>\n",
              "    </tr>\n",
              "  </thead>\n",
              "  <tbody>\n",
              "    <tr>\n",
              "      <th>0</th>\n",
              "      <td>4.940437</td>\n",
              "      <td>2.615287</td>\n",
              "      <td>-0.966262</td>\n",
              "      <td>6.188144</td>\n",
              "      <td>0.427879</td>\n",
              "      <td>0.086413</td>\n",
              "      <td>5.930693</td>\n",
              "      <td>3.759530</td>\n",
              "      <td>0.280389</td>\n",
              "      <td>0.609621</td>\n",
              "      <td>6.760632</td>\n",
              "      <td>-0.149049</td>\n",
              "    </tr>\n",
              "    <tr>\n",
              "      <th>1</th>\n",
              "      <td>-0.078417</td>\n",
              "      <td>0.233686</td>\n",
              "      <td>-0.982429</td>\n",
              "      <td>0.120117</td>\n",
              "      <td>0.135107</td>\n",
              "      <td>0.402925</td>\n",
              "      <td>-0.267392</td>\n",
              "      <td>0.410306</td>\n",
              "      <td>0.216533</td>\n",
              "      <td>0.570791</td>\n",
              "      <td>-0.065658</td>\n",
              "      <td>-0.081294</td>\n",
              "    </tr>\n",
              "    <tr>\n",
              "      <th>2</th>\n",
              "      <td>1.748672</td>\n",
              "      <td>2.029647</td>\n",
              "      <td>-0.974345</td>\n",
              "      <td>5.075672</td>\n",
              "      <td>0.176931</td>\n",
              "      <td>-0.040192</td>\n",
              "      <td>-0.267392</td>\n",
              "      <td>4.596836</td>\n",
              "      <td>0.599666</td>\n",
              "      <td>1.735708</td>\n",
              "      <td>3.123674</td>\n",
              "      <td>-0.013540</td>\n",
              "    </tr>\n",
              "    <tr>\n",
              "      <th>3</th>\n",
              "      <td>5.273931</td>\n",
              "      <td>3.279012</td>\n",
              "      <td>-0.966262</td>\n",
              "      <td>4.266602</td>\n",
              "      <td>2.142684</td>\n",
              "      <td>2.048788</td>\n",
              "      <td>7.812254</td>\n",
              "      <td>0.776627</td>\n",
              "      <td>2.579187</td>\n",
              "      <td>2.706473</td>\n",
              "      <td>4.242738</td>\n",
              "      <td>1.409306</td>\n",
              "    </tr>\n",
              "    <tr>\n",
              "      <th>4</th>\n",
              "      <td>3.314500</td>\n",
              "      <td>4.743111</td>\n",
              "      <td>-0.982429</td>\n",
              "      <td>4.468870</td>\n",
              "      <td>4.192086</td>\n",
              "      <td>3.441441</td>\n",
              "      <td>4.823892</td>\n",
              "      <td>3.393209</td>\n",
              "      <td>4.271359</td>\n",
              "      <td>3.560746</td>\n",
              "      <td>7.991603</td>\n",
              "      <td>0.121969</td>\n",
              "    </tr>\n",
              "  </tbody>\n",
              "</table>\n",
              "</div>"
            ],
            "text/plain": [
              "         0         1         2   ...        9         10        11\n",
              "0  4.940437  2.615287 -0.966262  ...  0.609621  6.760632 -0.149049\n",
              "1 -0.078417  0.233686 -0.982429  ...  0.570791 -0.065658 -0.081294\n",
              "2  1.748672  2.029647 -0.974345  ...  1.735708  3.123674 -0.013540\n",
              "3  5.273931  3.279012 -0.966262  ...  2.706473  4.242738  1.409306\n",
              "4  3.314500  4.743111 -0.982429  ...  3.560746  7.991603  0.121969\n",
              "\n",
              "[5 rows x 12 columns]"
            ]
          },
          "metadata": {
            "tags": []
          },
          "execution_count": 93
        }
      ]
    },
    {
      "cell_type": "code",
      "metadata": {
        "id": "8Q2wvP0vY7Lm",
        "colab": {
          "base_uri": "https://localhost:8080/",
          "height": 295
        },
        "outputId": "28fc22cd-b18c-44f0-d2db-6c60b25366c7"
      },
      "source": [
        "from sklearn.cluster import KMeans\n",
        "# Use the Elbow method to find a good number of clusters using Within-Cluster-Sum-of-Squares (WCSS)\n",
        "wcss = []\n",
        "N = range(1, 15)\n",
        "for i in N:\n",
        "    kmeans = KMeans(n_clusters=i) \n",
        "    kmeans.fit_predict(df_std)\n",
        "    wcss.append(kmeans.inertia_)\n",
        "    \n",
        "plt.plot(N, wcss, 'bo-')\n",
        "plt.title(\"Computing Within-Cluster-Sum-of-Squares (WCSS) for KMeans++\")\n",
        "plt.xlabel(\"Number of clusters\")\n",
        "plt.ylabel(\"WCSS\")\n",
        "plt.show()"
      ],
      "execution_count": 94,
      "outputs": [
        {
          "output_type": "display_data",
          "data": {
            "image/png": "[encoded data removed]",
            "text/plain": [
              "<Figure size 432x288 with 1 Axes>"
            ]
          },
          "metadata": {
            "tags": [],
            "needs_background": "light"
          }
        }
      ]
    },
    {
      "cell_type": "code",
      "metadata": {
        "id": "hmgpI2DcY9-D"
      },
      "source": [
        "#let's choose k = 4\n",
        "cluster = KMeans(n_clusters=4)\n",
        "df['cluster'] = cluster.fit_predict(df_std)"
      ],
      "execution_count": 95,
      "outputs": []
    },
    {
      "cell_type": "code",
      "metadata": {
        "id": "dHLsrgdbY_g3",
        "colab": {
          "base_uri": "https://localhost:8080/",
          "height": 173
        },
        "outputId": "042240f4-0f75-4731-9e89-aa935ba20d04"
      },
      "source": [
        "dfCluster = df.groupby('cluster', as_index=False).mean()\n",
        "dfCluster['NO_CUST'] = df[['cluster','CUST_CODE']].groupby('cluster').count()\n",
        "\n",
        "dfCluster"
      ],
      "execution_count": 96,
      "outputs": [
        {
          "output_type": "execute_result",
          "data": {
            "text/html": [
              "<div>\n",
              "<style scoped>\n",
              "    .dataframe tbody tr th:only-of-type {\n",
              "        vertical-align: middle;\n",
              "    }\n",
              "\n",
              "    .dataframe tbody tr th {\n",
              "        vertical-align: top;\n",
              "    }\n",
              "\n",
              "    .dataframe thead th {\n",
              "        text-align: right;\n",
              "    }\n",
              "</style>\n",
              "<table border=\"1\" class=\"dataframe\">\n",
              "  <thead>\n",
              "    <tr style=\"text-align: right;\">\n",
              "      <th></th>\n",
              "      <th>cluster</th>\n",
              "      <th>TOTAL_SALES</th>\n",
              "      <th>TOTAL_VISIT</th>\n",
              "      <th>Recency</th>\n",
              "      <th>L_BASKET_SIZE</th>\n",
              "      <th>M_BASKET_SIZE</th>\n",
              "      <th>S_BASKET_SIZE</th>\n",
              "      <th>Full_Shop_BASKET_SIZE</th>\n",
              "      <th>Top_Up_BASKET_SIZE</th>\n",
              "      <th>Small_Shop_BASKET_SIZE</th>\n",
              "      <th>MM_BASKET_SIZE</th>\n",
              "      <th>LA_BASKET_SIZE</th>\n",
              "      <th>UM_BASKET_SIZE</th>\n",
              "      <th>NO_CUST</th>\n",
              "    </tr>\n",
              "  </thead>\n",
              "  <tbody>\n",
              "    <tr>\n",
              "      <th>0</th>\n",
              "      <td>0</td>\n",
              "      <td>115.952070</td>\n",
              "      <td>10.403024</td>\n",
              "      <td>97.245711</td>\n",
              "      <td>2.889794</td>\n",
              "      <td>4.016284</td>\n",
              "      <td>3.496947</td>\n",
              "      <td>1.024135</td>\n",
              "      <td>2.788892</td>\n",
              "      <td>6.439372</td>\n",
              "      <td>5.780169</td>\n",
              "      <td>2.362896</td>\n",
              "      <td>2.004071</td>\n",
              "      <td>3439</td>\n",
              "    </tr>\n",
              "    <tr>\n",
              "      <th>1</th>\n",
              "      <td>1</td>\n",
              "      <td>3225.370566</td>\n",
              "      <td>311.405660</td>\n",
              "      <td>3.273585</td>\n",
              "      <td>88.830189</td>\n",
              "      <td>140.811321</td>\n",
              "      <td>81.764151</td>\n",
              "      <td>23.754717</td>\n",
              "      <td>101.688679</td>\n",
              "      <td>182.405660</td>\n",
              "      <td>148.292453</td>\n",
              "      <td>82.452830</td>\n",
              "      <td>76.113208</td>\n",
              "      <td>106</td>\n",
              "    </tr>\n",
              "    <tr>\n",
              "      <th>2</th>\n",
              "      <td>2</td>\n",
              "      <td>1606.102643</td>\n",
              "      <td>109.821586</td>\n",
              "      <td>8.392070</td>\n",
              "      <td>44.709251</td>\n",
              "      <td>38.458150</td>\n",
              "      <td>26.654185</td>\n",
              "      <td>18.596916</td>\n",
              "      <td>36.231278</td>\n",
              "      <td>53.903084</td>\n",
              "      <td>55.290749</td>\n",
              "      <td>30.885463</td>\n",
              "      <td>22.072687</td>\n",
              "      <td>454</td>\n",
              "    </tr>\n",
              "    <tr>\n",
              "      <th>3</th>\n",
              "      <td>3</td>\n",
              "      <td>14.761847</td>\n",
              "      <td>1.682056</td>\n",
              "      <td>547.473584</td>\n",
              "      <td>0.360781</td>\n",
              "      <td>0.569729</td>\n",
              "      <td>0.751547</td>\n",
              "      <td>0.120895</td>\n",
              "      <td>0.358877</td>\n",
              "      <td>1.179438</td>\n",
              "      <td>1.015707</td>\n",
              "      <td>0.318896</td>\n",
              "      <td>0.303665</td>\n",
              "      <td>2101</td>\n",
              "    </tr>\n",
              "  </tbody>\n",
              "</table>\n",
              "</div>"
            ],
            "text/plain": [
              "   cluster  TOTAL_SALES  TOTAL_VISIT  ...  LA_BASKET_SIZE  UM_BASKET_SIZE  NO_CUST\n",
              "0        0   115.952070    10.403024  ...        2.362896        2.004071     3439\n",
              "1        1  3225.370566   311.405660  ...       82.452830       76.113208      106\n",
              "2        2  1606.102643   109.821586  ...       30.885463       22.072687      454\n",
              "3        3    14.761847     1.682056  ...        0.318896        0.303665     2101\n",
              "\n",
              "[4 rows x 14 columns]"
            ]
          },
          "metadata": {
            "tags": []
          },
          "execution_count": 96
        }
      ]
    },
    {
      "cell_type": "code",
      "metadata": {
        "id": "-JD5wrZxZF4d",
        "colab": {
          "base_uri": "https://localhost:8080/",
          "height": 297
        },
        "outputId": "18b1adac-a810-41fd-ef73-ffbfea6a4dd3"
      },
      "source": [
        "import matplotlib.pyplot as plt\n",
        "import seaborn as sns\n",
        "\n",
        "plt.figure()\n",
        "fig, ax = plt.subplots()\n",
        "ax.scatter(dfCluster['TOTAL_SALES'], dfCluster['TOTAL_VISIT'], s=dfCluster['NO_CUST'], alpha = 0.5)\n",
        "ax.set_xlabel(\"TOTAL_SALES\")\n",
        "ax.set_ylabel(\"TOTAL_VISIT\")\n",
        "\n",
        "for i, txt in enumerate(dfCluster['cluster']):\n",
        "  ax.annotate(txt, (dfCluster['TOTAL_SALES'][i], dfCluster[\"TOTAL_VISIT\"][i]))\n",
        "plt.show()"
      ],
      "execution_count": 112,
      "outputs": [
        {
          "output_type": "display_data",
          "data": {
            "text/plain": [
              "<Figure size 432x288 with 0 Axes>"
            ]
          },
          "metadata": {
            "tags": []
          }
        },
        {
          "output_type": "display_data",
          "data": {
            "image/png": "[encoded data removed]",
            "text/plain": [
              "<Figure size 432x288 with 1 Axes>"
            ]
          },
          "metadata": {
            "tags": [],
            "needs_background": "light"
          }
        }
      ]
    },
    {
      "cell_type": "code",
      "metadata": {
        "colab": {
          "base_uri": "https://localhost:8080/",
          "height": 297
        },
        "id": "4yBHhuThTZ6B",
        "outputId": "bd099f20-3f61-4cb8-d03f-c3477b2d5fd7"
      },
      "source": [
        "import matplotlib.pyplot as plt\n",
        "import seaborn as sns\n",
        "\n",
        "plt.figure()\n",
        "fig, ax = plt.subplots()\n",
        "ax.scatter(dfCluster['TOTAL_SALES'], dfCluster['Recency'], s=dfCluster['NO_CUST'], alpha = 0.5)\n",
        "ax.set_xlabel(\"TOTAL_SALES\")\n",
        "ax.set_ylabel(\"Recency\")\n",
        "\n",
        "for i, txt in enumerate(dfCluster['cluster']):\n",
        "  ax.annotate(txt, (dfCluster['TOTAL_SALES'][i], dfCluster[\"Recency\"][i]))\n",
        "plt.show()"
      ],
      "execution_count": 113,
      "outputs": [
        {
          "output_type": "display_data",
          "data": {
            "text/plain": [
              "<Figure size 432x288 with 0 Axes>"
            ]
          },
          "metadata": {
            "tags": []
          }
        },
        {
          "output_type": "display_data",
          "data": {
            "image/png": "[encoded data removed]",
            "text/plain": [
              "<Figure size 432x288 with 1 Axes>"
            ]
          },
          "metadata": {
            "tags": [],
            "needs_background": "light"
          }
        }
      ]
    },
    {
      "cell_type": "code",
      "metadata": {
        "colab": {
          "base_uri": "https://localhost:8080/",
          "height": 173
        },
        "id": "Ru2rt7gjTdYh",
        "outputId": "03da5c3a-15fa-4de9-b57b-a393ab9c68f2"
      },
      "source": [
        "dfCluster"
      ],
      "execution_count": 104,
      "outputs": [
        {
          "output_type": "execute_result",
          "data": {
            "text/html": [
              "<div>\n",
              "<style scoped>\n",
              "    .dataframe tbody tr th:only-of-type {\n",
              "        vertical-align: middle;\n",
              "    }\n",
              "\n",
              "    .dataframe tbody tr th {\n",
              "        vertical-align: top;\n",
              "    }\n",
              "\n",
              "    .dataframe thead th {\n",
              "        text-align: right;\n",
              "    }\n",
              "</style>\n",
              "<table border=\"1\" class=\"dataframe\">\n",
              "  <thead>\n",
              "    <tr style=\"text-align: right;\">\n",
              "      <th></th>\n",
              "      <th>cluster</th>\n",
              "      <th>TOTAL_SALES</th>\n",
              "      <th>TOTAL_VISIT</th>\n",
              "      <th>Recency</th>\n",
              "      <th>L_BASKET_SIZE</th>\n",
              "      <th>M_BASKET_SIZE</th>\n",
              "      <th>S_BASKET_SIZE</th>\n",
              "      <th>Full_Shop_BASKET_SIZE</th>\n",
              "      <th>Top_Up_BASKET_SIZE</th>\n",
              "      <th>Small_Shop_BASKET_SIZE</th>\n",
              "      <th>MM_BASKET_SIZE</th>\n",
              "      <th>LA_BASKET_SIZE</th>\n",
              "      <th>UM_BASKET_SIZE</th>\n",
              "      <th>NO_CUST</th>\n",
              "    </tr>\n",
              "  </thead>\n",
              "  <tbody>\n",
              "    <tr>\n",
              "      <th>0</th>\n",
              "      <td>0</td>\n",
              "      <td>115.952070</td>\n",
              "      <td>10.403024</td>\n",
              "      <td>97.245711</td>\n",
              "      <td>2.889794</td>\n",
              "      <td>4.016284</td>\n",
              "      <td>3.496947</td>\n",
              "      <td>1.024135</td>\n",
              "      <td>2.788892</td>\n",
              "      <td>6.439372</td>\n",
              "      <td>5.780169</td>\n",
              "      <td>2.362896</td>\n",
              "      <td>2.004071</td>\n",
              "      <td>3439</td>\n",
              "    </tr>\n",
              "    <tr>\n",
              "      <th>1</th>\n",
              "      <td>1</td>\n",
              "      <td>3225.370566</td>\n",
              "      <td>311.405660</td>\n",
              "      <td>3.273585</td>\n",
              "      <td>88.830189</td>\n",
              "      <td>140.811321</td>\n",
              "      <td>81.764151</td>\n",
              "      <td>23.754717</td>\n",
              "      <td>101.688679</td>\n",
              "      <td>182.405660</td>\n",
              "      <td>148.292453</td>\n",
              "      <td>82.452830</td>\n",
              "      <td>76.113208</td>\n",
              "      <td>106</td>\n",
              "    </tr>\n",
              "    <tr>\n",
              "      <th>2</th>\n",
              "      <td>2</td>\n",
              "      <td>1606.102643</td>\n",
              "      <td>109.821586</td>\n",
              "      <td>8.392070</td>\n",
              "      <td>44.709251</td>\n",
              "      <td>38.458150</td>\n",
              "      <td>26.654185</td>\n",
              "      <td>18.596916</td>\n",
              "      <td>36.231278</td>\n",
              "      <td>53.903084</td>\n",
              "      <td>55.290749</td>\n",
              "      <td>30.885463</td>\n",
              "      <td>22.072687</td>\n",
              "      <td>454</td>\n",
              "    </tr>\n",
              "    <tr>\n",
              "      <th>3</th>\n",
              "      <td>3</td>\n",
              "      <td>14.761847</td>\n",
              "      <td>1.682056</td>\n",
              "      <td>547.473584</td>\n",
              "      <td>0.360781</td>\n",
              "      <td>0.569729</td>\n",
              "      <td>0.751547</td>\n",
              "      <td>0.120895</td>\n",
              "      <td>0.358877</td>\n",
              "      <td>1.179438</td>\n",
              "      <td>1.015707</td>\n",
              "      <td>0.318896</td>\n",
              "      <td>0.303665</td>\n",
              "      <td>2101</td>\n",
              "    </tr>\n",
              "  </tbody>\n",
              "</table>\n",
              "</div>"
            ],
            "text/plain": [
              "   cluster  TOTAL_SALES  TOTAL_VISIT  ...  LA_BASKET_SIZE  UM_BASKET_SIZE  NO_CUST\n",
              "0        0   115.952070    10.403024  ...        2.362896        2.004071     3439\n",
              "1        1  3225.370566   311.405660  ...       82.452830       76.113208      106\n",
              "2        2  1606.102643   109.821586  ...       30.885463       22.072687      454\n",
              "3        3    14.761847     1.682056  ...        0.318896        0.303665     2101\n",
              "\n",
              "[4 rows x 14 columns]"
            ]
          },
          "metadata": {
            "tags": []
          },
          "execution_count": 104
        }
      ]
    },
    {
      "cell_type": "code",
      "metadata": {
        "id": "FiBOcQtCZunp",
        "colab": {
          "base_uri": "https://localhost:8080/",
          "height": 1000
        },
        "outputId": "7f29a041-5a86-4acf-dfd9-6abee144916c"
      },
      "source": [
        "for i, col in enumerate(df.columns[1:-1]):\n",
        "    sns.boxplot(x=\"cluster\", y =col, data=df)\n",
        "    plt.show()"
      ],
      "execution_count": 114,
      "outputs": [
        {
          "output_type": "display_data",
          "data": {
            "image/png": "[encoded data removed]",
            "text/plain": [
              "<Figure size 432x288 with 1 Axes>"
            ]
          },
          "metadata": {
            "tags": [],
            "needs_background": "light"
          }
        },
        {
          "output_type": "display_data",
          "data": {
            "image/png": "[encoded data removed]",
            "text/plain": [
              "<Figure size 432x288 with 1 Axes>"
            ]
          },
          "metadata": {
            "tags": [],
            "needs_background": "light"
          }
        },
        {
          "output_type": "display_data",
          "data": {
            "image/png": "[encoded data removed]",
            "text/plain": [
              "<Figure size 432x288 with 1 Axes>"
            ]
          },
          "metadata": {
            "tags": [],
            "needs_background": "light"
          }
        },
        {
          "output_type": "display_data",
          "data": {
            "image/png": "[encoded data removed]",
            "text/plain": [
              "<Figure size 432x288 with 1 Axes>"
            ]
          },
          "metadata": {
            "tags": [],
            "needs_background": "light"
          }
        },
        {
          "output_type": "display_data",
          "data": {
            "image/png": "[encoded data removed]",
            "text/plain": [
              "<Figure size 432x288 with 1 Axes>"
            ]
          },
          "metadata": {
            "tags": [],
            "needs_background": "light"
          }
        },
        {
          "output_type": "display_data",
          "data": {
            "image/png": "[encoded data removed]",
            "text/plain": [
              "<Figure size 432x288 with 1 Axes>"
            ]
          },
          "metadata": {
            "tags": [],
            "needs_background": "light"
          }
        },
        {
          "output_type": "display_data",
          "data": {
            "image/png": "[encoded data removed]",
            "text/plain": [
              "<Figure size 432x288 with 1 Axes>"
            ]
          },
          "metadata": {
            "tags": [],
            "needs_background": "light"
          }
        },
        {
          "output_type": "display_data",
          "data": {
            "image/png": "[encoded data removed]",
            "text/plain": [
              "<Figure size 432x288 with 1 Axes>"
            ]
          },
          "metadata": {
            "tags": [],
            "needs_background": "light"
          }
        },
        {
          "output_type": "display_data",
          "data": {
            "image/png": "[encoded data removed]",
            "text/plain": [
              "<Figure size 432x288 with 1 Axes>"
            ]
          },
          "metadata": {
            "tags": [],
            "needs_background": "light"
          }
        },
        {
          "output_type": "display_data",
          "data": {
            "image/png": "[encoded data removed]",
            "text/plain": [
              "<Figure size 432x288 with 1 Axes>"
            ]
          },
          "metadata": {
            "tags": [],
            "needs_background": "light"
          }
        },
        {
          "output_type": "display_data",
          "data": {
            "image/png": "[encoded data removed]",
            "text/plain": [
              "<Figure size 432x288 with 1 Axes>"
            ]
          },
          "metadata": {
            "tags": [],
            "needs_background": "light"
          }
        },
        {
          "output_type": "display_data",
          "data": {
            "image/png": "[encoded data removed]",
            "text/plain": [
              "<Figure size 432x288 with 1 Axes>"
            ]
          },
          "metadata": {
            "tags": [],
            "needs_background": "light"
          }
        }
      ]
    },
    {
      "cell_type": "code",
      "metadata": {
        "id": "vSRTVL_5Zx5p",
        "colab": {
          "base_uri": "https://localhost:8080/"
        },
        "outputId": "781b5edf-7bb5-492f-86e6-1399f9ac582e"
      },
      "source": [
        "from sklearn.ensemble import RandomForestClassifier\n",
        "\n",
        "predictors = df.iloc[:,1:-1]\n",
        "targets = df.iloc[:,-1:]\n",
        "\n",
        "scaler = StandardScaler()\n",
        "predictors_scaled = scaler.fit_transform(predictors)\n",
        "\n",
        "classifier = RandomForestClassifier(n_estimators = 10, criterion = 'entropy', random_state = 42)\n",
        "classifier.fit(predictors_scaled, targets.values.ravel())\n"
      ],
      "execution_count": 115,
      "outputs": [
        {
          "output_type": "execute_result",
          "data": {
            "text/plain": [
              "RandomForestClassifier(bootstrap=True, ccp_alpha=0.0, class_weight=None,\n",
              "                       criterion='entropy', max_depth=None, max_features='auto',\n",
              "                       max_leaf_nodes=None, max_samples=None,\n",
              "                       min_impurity_decrease=0.0, min_impurity_split=None,\n",
              "                       min_samples_leaf=1, min_samples_split=2,\n",
              "                       min_weight_fraction_leaf=0.0, n_estimators=10,\n",
              "                       n_jobs=None, oob_score=False, random_state=42, verbose=0,\n",
              "                       warm_start=False)"
            ]
          },
          "metadata": {
            "tags": []
          },
          "execution_count": 115
        }
      ]
    },
    {
      "cell_type": "code",
      "metadata": {
        "id": "VajR1gA4Zzzx",
        "colab": {
          "base_uri": "https://localhost:8080/"
        },
        "outputId": "36263185-b758-44d5-e5c0-65051d48659a"
      },
      "source": [
        "importances = list(classifier.feature_importances_)\n",
        "\n",
        "feature_list = list(predictors.columns)\n",
        "feature_importances = [(feature, round(importance, 2)) for feature, importance in zip(feature_list, importances)]\n",
        "feature_importances = sorted(feature_importances, key = lambda x: x[1], reverse = True)\n",
        "[print('Variable: {:20} Importance: {}'.format(*pair)) for pair in feature_importances];"
      ],
      "execution_count": 116,
      "outputs": [
        {
          "output_type": "stream",
          "text": [
            "Variable: Recency              Importance: 0.58\n",
            "Variable: TOTAL_VISIT          Importance: 0.18\n",
            "Variable: MM_BASKET_SIZE       Importance: 0.11\n",
            "Variable: TOTAL_SALES          Importance: 0.02\n",
            "Variable: L_BASKET_SIZE        Importance: 0.02\n",
            "Variable: M_BASKET_SIZE        Importance: 0.02\n",
            "Variable: Top_Up_BASKET_SIZE   Importance: 0.02\n",
            "Variable: Small_Shop_BASKET_SIZE Importance: 0.02\n",
            "Variable: S_BASKET_SIZE        Importance: 0.01\n",
            "Variable: Full_Shop_BASKET_SIZE Importance: 0.01\n",
            "Variable: LA_BASKET_SIZE       Importance: 0.01\n",
            "Variable: UM_BASKET_SIZE       Importance: 0.01\n"
          ],
          "name": "stdout"
        }
      ]
    }
  ]
}